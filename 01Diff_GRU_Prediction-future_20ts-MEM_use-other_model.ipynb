{
 "cells": [
  {
   "cell_type": "code",
   "execution_count": 256,
   "metadata": {
    "id": "T2Q0Q2ZuMAYy"
   },
   "outputs": [],
   "source": [
    "# Import the libraries\n",
    "import numpy as np\n",
    "import matplotlib.pyplot as plt  # for 畫圖用\n",
    "import pandas as pd# load and evaluate a saved model\n",
    "from numpy import loadtxt\n",
    "from keras.models import load_model\n",
    "from keras.models import Sequential, Model\n",
    "from keras.layers import Dense, Dropout, Activation, Flatten, LSTM, TimeDistributed, RepeatVector,GRU, Input\n",
    "from keras.layers.normalization import BatchNormalization\n",
    "from keras.optimizers import Adam\n",
    "from keras.callbacks import EarlyStopping, ModelCheckpoint\n",
    "from sklearn.metrics import mean_squared_error\n",
    "import math\n",
    "from IPython.core.pylabtools import figsize\n",
    "figsize(15, 7) \n",
    "\n",
    "#dataset_train = pd.read_csv('./dataset/THGBNKLAK1TS301_Memory Used (percentage)_Oct_2020.csv')  # 讀取訓練集\n",
    "dataset_train = pd.read_csv('./dataset/ATKH_Oplus_TWGKHHPSK1MSB04_memory_usage_2020_10.csv')  # 讀取訓練集\n",
    "#dataset_train = dataset_train.dropna(axis=0)\n",
    "dataset_train = dataset_train[::-1].reset_index(drop=True) \n",
    "\n",
    "train_count = int(len(dataset_train)*0.8)\n",
    "test_count = len(dataset_train)-train_count\n",
    "training_set = dataset_train.iloc[:train_count, 3:4].values*1/100 # 取「Open」欄位值\n",
    "\n",
    "#dataset_test = pd.read_csv('./dataset/ATBK_test.csv')\n",
    "testing_set = dataset_train.iloc[train_count:, 3:4].values*1/100\n",
    "\n",
    "#dataset_total = pd.concat((dataset_train['Value'], dataset_test['Value']), axis = 0)\n",
    "#inputs = dataset_total[len(dataset_total) - len(dataset_test) - 60:].values\n",
    "#inputs = inputs.reshape(-1,1)\n",
    "#inputs = sc.transform(inputs) # Feature Scaling\n"
   ]
  },
  {
   "cell_type": "code",
   "execution_count": 257,
   "metadata": {},
   "outputs": [
    {
     "data": {
      "text/html": [
       "<div>\n",
       "<style scoped>\n",
       "    .dataframe tbody tr th:only-of-type {\n",
       "        vertical-align: middle;\n",
       "    }\n",
       "\n",
       "    .dataframe tbody tr th {\n",
       "        vertical-align: top;\n",
       "    }\n",
       "\n",
       "    .dataframe thead th {\n",
       "        text-align: right;\n",
       "    }\n",
       "</style>\n",
       "<table border=\"1\" class=\"dataframe\">\n",
       "  <thead>\n",
       "    <tr style=\"text-align: right;\">\n",
       "      <th></th>\n",
       "      <th>Date</th>\n",
       "      <th>time</th>\n",
       "      <th>Allocate memory</th>\n",
       "      <th>%used</th>\n",
       "    </tr>\n",
       "  </thead>\n",
       "  <tbody>\n",
       "    <tr>\n",
       "      <th>0</th>\n",
       "      <td>2020/10/1</td>\n",
       "      <td>00:00:45</td>\n",
       "      <td>1601481645</td>\n",
       "      <td>34.8176</td>\n",
       "    </tr>\n",
       "    <tr>\n",
       "      <th>1</th>\n",
       "      <td>2020/10/1</td>\n",
       "      <td>00:03:45</td>\n",
       "      <td>1601481825</td>\n",
       "      <td>34.4525</td>\n",
       "    </tr>\n",
       "    <tr>\n",
       "      <th>2</th>\n",
       "      <td>2020/10/1</td>\n",
       "      <td>00:06:45</td>\n",
       "      <td>1601482005</td>\n",
       "      <td>35.1097</td>\n",
       "    </tr>\n",
       "    <tr>\n",
       "      <th>3</th>\n",
       "      <td>2020/10/1</td>\n",
       "      <td>00:09:46</td>\n",
       "      <td>1601482186</td>\n",
       "      <td>37.3601</td>\n",
       "    </tr>\n",
       "    <tr>\n",
       "      <th>4</th>\n",
       "      <td>2020/10/1</td>\n",
       "      <td>00:12:45</td>\n",
       "      <td>1601482365</td>\n",
       "      <td>38.7265</td>\n",
       "    </tr>\n",
       "    <tr>\n",
       "      <th>...</th>\n",
       "      <td>...</td>\n",
       "      <td>...</td>\n",
       "      <td>...</td>\n",
       "      <td>...</td>\n",
       "    </tr>\n",
       "    <tr>\n",
       "      <th>14873</th>\n",
       "      <td>2020/10/31</td>\n",
       "      <td>23:45:45</td>\n",
       "      <td>1604159145</td>\n",
       "      <td>29.2647</td>\n",
       "    </tr>\n",
       "    <tr>\n",
       "      <th>14874</th>\n",
       "      <td>2020/10/31</td>\n",
       "      <td>23:48:45</td>\n",
       "      <td>1604159325</td>\n",
       "      <td>29.1402</td>\n",
       "    </tr>\n",
       "    <tr>\n",
       "      <th>14875</th>\n",
       "      <td>2020/10/31</td>\n",
       "      <td>23:51:46</td>\n",
       "      <td>1604159506</td>\n",
       "      <td>29.1743</td>\n",
       "    </tr>\n",
       "    <tr>\n",
       "      <th>14876</th>\n",
       "      <td>2020/10/31</td>\n",
       "      <td>23:54:45</td>\n",
       "      <td>1604159685</td>\n",
       "      <td>29.1521</td>\n",
       "    </tr>\n",
       "    <tr>\n",
       "      <th>14877</th>\n",
       "      <td>2020/10/31</td>\n",
       "      <td>23:57:45</td>\n",
       "      <td>1604159865</td>\n",
       "      <td>28.9750</td>\n",
       "    </tr>\n",
       "  </tbody>\n",
       "</table>\n",
       "<p>14878 rows × 4 columns</p>\n",
       "</div>"
      ],
      "text/plain": [
       "             Date      time  Allocate memory    %used\n",
       "0       2020/10/1  00:00:45       1601481645  34.8176\n",
       "1       2020/10/1  00:03:45       1601481825  34.4525\n",
       "2       2020/10/1  00:06:45       1601482005  35.1097\n",
       "3       2020/10/1  00:09:46       1601482186  37.3601\n",
       "4       2020/10/1  00:12:45       1601482365  38.7265\n",
       "...           ...       ...              ...      ...\n",
       "14873  2020/10/31  23:45:45       1604159145  29.2647\n",
       "14874  2020/10/31  23:48:45       1604159325  29.1402\n",
       "14875  2020/10/31  23:51:46       1604159506  29.1743\n",
       "14876  2020/10/31  23:54:45       1604159685  29.1521\n",
       "14877  2020/10/31  23:57:45       1604159865  28.9750\n",
       "\n",
       "[14878 rows x 4 columns]"
      ]
     },
     "execution_count": 257,
     "metadata": {},
     "output_type": "execute_result"
    }
   ],
   "source": [
    "dataset_train"
   ]
  },
  {
   "cell_type": "code",
   "execution_count": 258,
   "metadata": {
    "id": "A-y-p2DWMAY0"
   },
   "outputs": [],
   "source": [
    "# Feature Scaling\n",
    "from sklearn.preprocessing import MinMaxScaler,RobustScaler\n",
    "\n",
    "\n",
    "#MinMaxScaler\n",
    "\n",
    "#sc = MinMaxScaler(feature_range = (0, 1))\n",
    "#sc_train = MinMaxScaler(feature_range = (0, 1))\n",
    "#training_set_scaled = sc_train.fit_transform(training_set)\n",
    "\n",
    "#sc_test = MinMaxScaler(feature_range = (0, 1))\n",
    "#testing_set_scaled = sc_test.fit_transform(testing_set)\n",
    "\n",
    "\n",
    "#RobustScaler\n",
    "\n",
    "sc_train = RobustScaler(quantile_range=(25, 50))\n",
    "training_set_scaled = sc_train.fit_transform(training_set)\n",
    "\n",
    "sc_test = RobustScaler(quantile_range=(25, 50))\n",
    "testing_set_scaled = sc_test.fit_transform(testing_set)"
   ]
  },
  {
   "cell_type": "code",
   "execution_count": 259,
   "metadata": {},
   "outputs": [
    {
     "data": {
      "text/plain": [
       "array([[ 0.98069865],\n",
       "       [ 0.69758686],\n",
       "       [ 1.05706734],\n",
       "       ...,\n",
       "       [-0.61361173],\n",
       "       [-0.63049803],\n",
       "       [-0.76520813]])"
      ]
     },
     "execution_count": 259,
     "metadata": {},
     "output_type": "execute_result"
    }
   ],
   "source": [
    "testing_set_scaled"
   ]
  },
  {
   "cell_type": "code",
   "execution_count": 260,
   "metadata": {},
   "outputs": [
    {
     "data": {
      "text/plain": [
       "[<matplotlib.lines.Line2D at 0x149b27f9748>]"
      ]
     },
     "execution_count": 260,
     "metadata": {},
     "output_type": "execute_result"
    },
    {
     "data": {
      "image/png": "[encoded data removed]",
      "text/plain": [
       "<Figure size 1080x504 with 1 Axes>"
      ]
     },
     "metadata": {
      "needs_background": "light"
     },
     "output_type": "display_data"
    }
   ],
   "source": [
    "plt.plot(training_set_scaled)"
   ]
  },
  {
   "cell_type": "code",
   "execution_count": 261,
   "metadata": {
    "id": "0bI7MjxIMAY0"
   },
   "outputs": [
    {
     "name": "stdout",
     "output_type": "stream",
     "text": [
      "(594, 20)\n",
      "(147, 20)\n"
     ]
    }
   ],
   "source": [
    "def gen_dataset(data,x_window_size,y_window_size):\n",
    "    X_train = []   #預測點的前 60 天的資料\n",
    "    y_train = []   #預測點\n",
    "    for i in range(x_window_size, data.shape[0]-y_window_size,y_window_size):\n",
    "        X_train.append(data[i-x_window_size:i, 0])\n",
    "        y_train.append(data[i:i+y_window_size, 0])\n",
    "\n",
    "    X_train, y_train = np.array(X_train), np.array(y_train)  # 轉成numpy array的格式，以利輸入 RNN\n",
    "    print(X_train.shape)\n",
    "    samples = np.reshape(X_train, (X_train.shape[0], X_train.shape[1], 1))\n",
    "    target = np.reshape(y_train, (y_train.shape[0], y_train.shape[1], 1))\n",
    "    \n",
    "    return samples,target\n",
    "    \n",
    "X_train,y_train = gen_dataset(training_set,20,20)\n",
    "X_test,y_test = gen_dataset(testing_set,20,20)"
   ]
  },
  {
   "cell_type": "code",
   "execution_count": 262,
   "metadata": {
    "colab": {
     "base_uri": "https://localhost:8080/"
    },
    "id": "M2EIJZu3ObYd",
    "outputId": "73bf2394-baa1-4b54-a3b9-177480598478"
   },
   "outputs": [
    {
     "name": "stdout",
     "output_type": "stream",
     "text": [
      "(594, 20, 1)\n",
      "(147, 20, 1)\n"
     ]
    }
   ],
   "source": [
    "print(X_train.shape)\n",
    "print(X_test.shape)"
   ]
  },
  {
   "cell_type": "code",
   "execution_count": 263,
   "metadata": {},
   "outputs": [],
   "source": [
    "from keras.callbacks import ReduceLROnPlateau\n",
    "\n",
    "rp = ReduceLROnPlateau(\n",
    "    monitor='loss', \n",
    "    factor=0.1, \n",
    "    patience=3, \n",
    "    verbose=1, \n",
    "    mode='auto', \n",
    "    min_delta=0.0001, \n",
    "    cooldown=0, \n",
    "    min_lr=0\n",
    ")\n"
   ]
  },
  {
   "cell_type": "code",
   "execution_count": 264,
   "metadata": {},
   "outputs": [
    {
     "data": {
      "text/plain": [
       "20"
      ]
     },
     "execution_count": 264,
     "metadata": {},
     "output_type": "execute_result"
    }
   ],
   "source": [
    "X_train.shape[1]"
   ]
  },
  {
   "cell_type": "code",
   "execution_count": 265,
   "metadata": {
    "colab": {
     "base_uri": "https://localhost:8080/"
    },
    "id": "GiP9oM05O_P-",
    "outputId": "fe5009ef-58e4-4036-cd81-0307fd67aa6a",
    "scrolled": false
   },
   "outputs": [
    {
     "name": "stdout",
     "output_type": "stream",
     "text": [
      "_________________________________________________________________\n",
      "Layer (type)                 Output Shape              Param #   \n",
      "=================================================================\n",
      "input_11 (InputLayer)        (None, 20, 1)             0         \n",
      "_________________________________________________________________\n",
      "gru_21 (GRU)                 (None, 20)                1320      \n",
      "_________________________________________________________________\n",
      "dropout_21 (Dropout)         (None, 20)                0         \n",
      "_________________________________________________________________\n",
      "repeat_vector_11 (RepeatVect (None, 20, 20)            0         \n",
      "_________________________________________________________________\n",
      "gru_22 (GRU)                 (None, 20, 20)            2460      \n",
      "_________________________________________________________________\n",
      "dropout_22 (Dropout)         (None, 20, 20)            0         \n",
      "_________________________________________________________________\n",
      "time_distributed_11 (TimeDis (None, 20, 1)             21        \n",
      "=================================================================\n",
      "Total params: 3,801\n",
      "Trainable params: 3,801\n",
      "Non-trainable params: 0\n",
      "_________________________________________________________________\n"
     ]
    }
   ],
   "source": [
    "UNIT = X_train.shape[1]\n",
    "\n",
    "inputs = Input(shape=(X_train.shape[1], X_train.shape[2]))\n",
    "L1 = GRU(UNIT,input_shape=(X_train.shape[1], X_train.shape[2]),unroll=True)(inputs)\n",
    "L2 = Dropout(0.2)(L1)\n",
    "L3 = RepeatVector(y_train.shape[1])(L2)\n",
    "L4 = GRU(UNIT,return_sequences=True,unroll=True)(L3)\n",
    "L5 = Dropout(0.2)(L4)\n",
    "output = TimeDistributed(Dense(1))(L5)\n",
    "\n",
    "model = Model(inputs=inputs, outputs=output)\n",
    "encoder_model = Model(inputs=inputs, outputs=L3)\n",
    "# output shape: (1, 1)\n",
    " # or use model.add(Dense(1))\n",
    "model.compile(loss=\"mae\", optimizer=\"adam\")\n",
    "model.summary()"
   ]
  },
  {
   "cell_type": "code",
   "execution_count": 267,
   "metadata": {},
   "outputs": [],
   "source": [
    "EPOCH = 50\n",
    "BATCH = 10"
   ]
  },
  {
   "cell_type": "code",
   "execution_count": 268,
   "metadata": {
    "colab": {
     "base_uri": "https://localhost:8080/"
    },
    "id": "L1rUZM7IPdEP",
    "outputId": "3930921d-843c-47dc-dd9d-1ac306bef83f",
    "scrolled": true
   },
   "outputs": [
    {
     "name": "stdout",
     "output_type": "stream",
     "text": [
      "Train on 534 samples, validate on 60 samples\n",
      "Epoch 1/50\n",
      "534/534 [==============================] - 15s 29ms/step - loss: 0.1169 - val_loss: 0.0543\n",
      "Epoch 2/50\n",
      "534/534 [==============================] - 2s 5ms/step - loss: 0.0663 - val_loss: 0.0457\n",
      "Epoch 3/50\n",
      "534/534 [==============================] - 2s 5ms/step - loss: 0.0618 - val_loss: 0.0468\n",
      "Epoch 4/50\n",
      "534/534 [==============================] - 2s 5ms/step - loss: 0.0571 - val_loss: 0.0421\n",
      "Epoch 5/50\n",
      "534/534 [==============================] - 2s 5ms/step - loss: 0.0544 - val_loss: 0.0387\n",
      "Epoch 6/50\n",
      "534/534 [==============================] - 2s 5ms/step - loss: 0.0523 - val_loss: 0.0402\n",
      "Epoch 7/50\n",
      "534/534 [==============================] - 2s 5ms/step - loss: 0.0511 - val_loss: 0.0393\n",
      "Epoch 8/50\n",
      "534/534 [==============================] - 2s 5ms/step - loss: 0.0489 - val_loss: 0.0380\n",
      "Epoch 9/50\n",
      "534/534 [==============================] - 2s 5ms/step - loss: 0.0481 - val_loss: 0.0401\n",
      "Epoch 10/50\n",
      "534/534 [==============================] - 2s 5ms/step - loss: 0.0472 - val_loss: 0.0378\n",
      "Epoch 11/50\n",
      "534/534 [==============================] - 2s 5ms/step - loss: 0.0465 - val_loss: 0.0386\n",
      "Epoch 12/50\n",
      "534/534 [==============================] - 2s 5ms/step - loss: 0.0451 - val_loss: 0.0367\n",
      "Epoch 13/50\n",
      "534/534 [==============================] - 2s 5ms/step - loss: 0.0448 - val_loss: 0.0409\n",
      "Epoch 14/50\n",
      "534/534 [==============================] - 2s 5ms/step - loss: 0.0439 - val_loss: 0.0388\n",
      "Epoch 15/50\n",
      "534/534 [==============================] - 2s 5ms/step - loss: 0.0432 - val_loss: 0.0384\n",
      "Epoch 16/50\n",
      "534/534 [==============================] - 2s 5ms/step - loss: 0.0428 - val_loss: 0.0375\n",
      "Epoch 17/50\n",
      "534/534 [==============================] - 2s 5ms/step - loss: 0.0422 - val_loss: 0.0380\n",
      "Epoch 18/50\n",
      "534/534 [==============================] - 2s 5ms/step - loss: 0.0418 - val_loss: 0.0384\n",
      "Epoch 19/50\n",
      "534/534 [==============================] - 2s 5ms/step - loss: 0.0412 - val_loss: 0.0383\n",
      "Epoch 20/50\n",
      "534/534 [==============================] - 2s 5ms/step - loss: 0.0404 - val_loss: 0.0356\n",
      "Epoch 21/50\n",
      "534/534 [==============================] - 3s 5ms/step - loss: 0.0407 - val_loss: 0.0362\n",
      "Epoch 22/50\n",
      "534/534 [==============================] - 2s 5ms/step - loss: 0.0402 - val_loss: 0.0359\n",
      "Epoch 23/50\n",
      "534/534 [==============================] - 3s 5ms/step - loss: 0.0394 - val_loss: 0.0374\n",
      "Epoch 24/50\n",
      "534/534 [==============================] - 2s 5ms/step - loss: 0.0394 - val_loss: 0.0366\n",
      "Epoch 25/50\n",
      "534/534 [==============================] - 2s 5ms/step - loss: 0.0393 - val_loss: 0.0358\n",
      "Epoch 26/50\n",
      "534/534 [==============================] - 2s 5ms/step - loss: 0.0389 - val_loss: 0.0352\n",
      "Epoch 27/50\n",
      "534/534 [==============================] - 2s 4ms/step - loss: 0.0381 - val_loss: 0.0335\n",
      "Epoch 28/50\n",
      "534/534 [==============================] - 2s 5ms/step - loss: 0.0385 - val_loss: 0.0341\n",
      "Epoch 29/50\n",
      "534/534 [==============================] - 3s 5ms/step - loss: 0.0378 - val_loss: 0.0333\n",
      "Epoch 30/50\n",
      "534/534 [==============================] - 3s 5ms/step - loss: 0.0381 - val_loss: 0.0354\n",
      "Epoch 31/50\n",
      "534/534 [==============================] - 2s 5ms/step - loss: 0.0372 - val_loss: 0.0340\n",
      "Epoch 32/50\n",
      "534/534 [==============================] - 2s 5ms/step - loss: 0.0373 - val_loss: 0.0338\n",
      "Epoch 33/50\n",
      "534/534 [==============================] - 2s 5ms/step - loss: 0.0371 - val_loss: 0.0331\n",
      "Epoch 34/50\n",
      "534/534 [==============================] - 2s 5ms/step - loss: 0.0373 - val_loss: 0.0342\n",
      "Epoch 35/50\n",
      "534/534 [==============================] - 3s 5ms/step - loss: 0.0368 - val_loss: 0.0324\n",
      "Epoch 36/50\n",
      "534/534 [==============================] - 2s 5ms/step - loss: 0.0367 - val_loss: 0.0328\n",
      "Epoch 37/50\n",
      "534/534 [==============================] - 2s 5ms/step - loss: 0.0366 - val_loss: 0.0330\n",
      "Epoch 38/50\n",
      "534/534 [==============================] - 3s 5ms/step - loss: 0.0362 - val_loss: 0.0328\n",
      "Epoch 39/50\n",
      "534/534 [==============================] - 2s 5ms/step - loss: 0.0364 - val_loss: 0.0326\n",
      "Epoch 40/50\n",
      "534/534 [==============================] - 2s 5ms/step - loss: 0.0361 - val_loss: 0.0319\n",
      "Epoch 41/50\n",
      "534/534 [==============================] - 3s 5ms/step - loss: 0.0362 - val_loss: 0.0329\n",
      "\n",
      "Epoch 00041: ReduceLROnPlateau reducing learning rate to 0.00010000000474974513.\n",
      "Epoch 42/50\n",
      "534/534 [==============================] - 2s 5ms/step - loss: 0.0348 - val_loss: 0.0308\n",
      "Epoch 43/50\n",
      "534/534 [==============================] - 3s 5ms/step - loss: 0.0352 - val_loss: 0.0311\n",
      "Epoch 44/50\n",
      "534/534 [==============================] - 2s 5ms/step - loss: 0.0347 - val_loss: 0.0312\n",
      "Epoch 45/50\n",
      "534/534 [==============================] - 2s 5ms/step - loss: 0.0350 - val_loss: 0.0313\n",
      "Epoch 46/50\n",
      "534/534 [==============================] - 2s 5ms/step - loss: 0.0349 - val_loss: 0.0313\n",
      "Epoch 47/50\n",
      "534/534 [==============================] - 3s 5ms/step - loss: 0.0348 - val_loss: 0.0314\n",
      "\n",
      "Epoch 00047: ReduceLROnPlateau reducing learning rate to 1.0000000474974514e-05.\n",
      "Epoch 48/50\n",
      "534/534 [==============================] - 2s 5ms/step - loss: 0.0346 - val_loss: 0.0315\n",
      "Epoch 49/50\n",
      "534/534 [==============================] - 2s 5ms/step - loss: 0.0345 - val_loss: 0.0316\n",
      "Epoch 50/50\n",
      "534/534 [==============================] - 2s 5ms/step - loss: 0.0345 - val_loss: 0.0317\n"
     ]
    }
   ],
   "source": [
    "history = model.fit(X_train, y_train, epochs=EPOCH, batch_size=BATCH, validation_split=0.1,callbacks=[rp],shuffle=False,verbose=1)"
   ]
  },
  {
   "cell_type": "code",
   "execution_count": 269,
   "metadata": {
    "scrolled": true
   },
   "outputs": [
    {
     "data": {
      "image/png": "[encoded data removed]",
      "text/plain": [
       "<Figure size 1080x504 with 1 Axes>"
      ]
     },
     "metadata": {
      "needs_background": "light"
     },
     "output_type": "display_data"
    }
   ],
   "source": [
    "\n",
    "\n",
    "plt.plot(history.history['loss'])\n",
    "plt.plot(history.history['val_loss'])\n",
    "plt.title('Model loss')\n",
    "plt.ylabel('Loss')\n",
    "plt.xlabel('Epoch')\n",
    "plt.legend(['Train_loss', 'Test_loss'], loc='upper left')\n",
    "plt.show()"
   ]
  },
  {
   "cell_type": "code",
   "execution_count": 275,
   "metadata": {
    "id": "QeND3xlPNT4o"
   },
   "outputs": [],
   "source": [
    "predicted_traffic = model.predict(X_test)\n",
    "\n",
    "predicted_traffic = np.reshape(predicted_traffic,(-1,1))\n",
    "\n",
    "#predicted_traffic = sc_train.inverse_transform(predicted_traffic)  # to get the original scale\n",
    "predicted_traffic = sc_test.inverse_transform(predicted_traffic) \n",
    "\n",
    "#plot_predicted_traffic = np.reshape(predicted_traffic,(-1,1))"
   ]
  },
  {
   "cell_type": "code",
   "execution_count": 276,
   "metadata": {},
   "outputs": [
    {
     "data": {
      "text/plain": [
       "array([[0.312703],\n",
       "       [0.308981],\n",
       "       [0.313707],\n",
       "       ...,\n",
       "       [0.291743],\n",
       "       [0.291521],\n",
       "       [0.28975 ]])"
      ]
     },
     "execution_count": 276,
     "metadata": {},
     "output_type": "execute_result"
    }
   ],
   "source": [
    "testing_set"
   ]
  },
  {
   "cell_type": "code",
   "execution_count": 277,
   "metadata": {},
   "outputs": [
    {
     "data": {
      "text/plain": [
       "36"
      ]
     },
     "execution_count": 277,
     "metadata": {},
     "output_type": "execute_result"
    }
   ],
   "source": [
    "testing_set.shape[0]-predicted_traffic.shape[0]"
   ]
  },
  {
   "cell_type": "code",
   "execution_count": 278,
   "metadata": {},
   "outputs": [
    {
     "data": {
      "text/plain": [
       "<matplotlib.legend.Legend at 0x1499854ecf8>"
      ]
     },
     "execution_count": 278,
     "metadata": {},
     "output_type": "execute_result"
    },
    {
     "data": {
      "image/png": "[encoded data removed]",
      "text/plain": [
       "<Figure size 1080x504 with 1 Axes>"
      ]
     },
     "metadata": {
      "needs_background": "light"
     },
     "output_type": "display_data"
    }
   ],
   "source": [
    "\n",
    "\n",
    "plt.plot(testing_set[:predicted_traffic.shape[0]],color = 'red', label = 'Real MEM Used')\n",
    "plt.plot(predicted_traffic,color = 'blue', label = 'Predicted MEM Used')\n",
    "\n",
    "#plt.axhline(y=30, xmin=0, xmax=predicted_traffic.shape[0],label = 'upper')\n",
    "#plt.axhline(y=0.7, xmin=0, xmax=predicted_traffic.shape[0],label = 'low')\n",
    "plt.xlabel('Sequence')\n",
    "plt.ylabel('24H Detection Trend Values')\n",
    "plt.legend()"
   ]
  },
  {
   "cell_type": "code",
   "execution_count": 279,
   "metadata": {},
   "outputs": [
    {
     "name": "stdout",
     "output_type": "stream",
     "text": [
      "Test Score: 0.03 MAE\n",
      "Test Score: 0.07 RMSE\n"
     ]
    }
   ],
   "source": [
    "from sklearn.metrics import mean_squared_error\n",
    "import math\n",
    "from sklearn.metrics import mean_absolute_error\n",
    "\n",
    "MAEScore = mean_absolute_error(testing_set[:predicted_traffic.shape[0]],predicted_traffic)\n",
    "RMSEScore = math.sqrt(mean_squared_error(testing_set[:predicted_traffic.shape[0]],predicted_traffic))\n",
    "\n",
    "print('Test Score: %.2f MAE' % (MAEScore))\n",
    "print('Test Score: %.2f RMSE' % (RMSEScore))"
   ]
  },
  {
   "cell_type": "code",
   "execution_count": 234,
   "metadata": {},
   "outputs": [],
   "source": [
    "from keras.utils import plot_model\n",
    "plot_model(model, to_file='./model_plot/GRU_model1.png',show_shapes=True)"
   ]
  },
  {
   "cell_type": "code",
   "execution_count": 156,
   "metadata": {},
   "outputs": [],
   "source": [
    "model.save(\"./model/MEM_use_model_best.h5\")"
   ]
  },
  {
   "cell_type": "code",
   "execution_count": 158,
   "metadata": {},
   "outputs": [
    {
     "name": "stdout",
     "output_type": "stream",
     "text": [
      "30.311609268188477\n",
      "30.311609268188477\n",
      "30.31193733215332\n",
      "30.31666374206543\n",
      "30.318483352661133\n",
      "30.319111824035645\n",
      "30.319278717041016\n",
      "30.319281578063965\n",
      "30.319281578063965\n",
      "30.319281578063965\n",
      "30.319281578063965\n",
      "30.319281578063965\n",
      "30.319281578063965\n",
      "30.319281578063965\n",
      "30.319281578063965\n",
      "30.319281578063965\n",
      "30.319281578063965\n",
      "30.319281578063965\n",
      "30.319281578063965\n",
      "30.132283210754395\n",
      "30.132283210754395\n",
      "30.132283210754395\n",
      "30.132283210754395\n",
      "30.132283210754395\n",
      "30.132283210754395\n",
      "30.132283210754395\n",
      "30.13224697113037\n",
      "30.132166862487793\n",
      "30.132097244262695\n",
      "30.13205051422119\n",
      "30.1320219039917\n",
      "30.13200569152832\n",
      "30.131997108459473\n",
      "30.13199234008789\n",
      "30.131990432739258\n",
      "30.13198947906494\n",
      "30.131988525390625\n"
     ]
    }
   ],
   "source": [
    "for i in range(predicted_traffic.shape[0]):\n",
    "    q_value = np.percentile(predicted_traffic[i:i+20], (25, 50, 99), interpolation='midpoint')\n",
    "    if q_value[2] >=30:\n",
    "        print(q_value[2])"
   ]
  },
  {
   "cell_type": "code",
   "execution_count": 165,
   "metadata": {},
   "outputs": [
    {
     "data": {
      "text/plain": [
       "<function matplotlib.pyplot.show(close=None, block=None)>"
      ]
     },
     "execution_count": 165,
     "metadata": {},
     "output_type": "execute_result"
    },
    {
     "data": {
      "image/png": "[encoded data removed]",
      "text/plain": [
       "<Figure size 1080x504 with 1 Axes>"
      ]
     },
     "metadata": {
      "needs_background": "light"
     },
     "output_type": "display_data"
    }
   ],
   "source": [
    "plt.boxplot(x=predicted_traffic,whis = 20,widths = 0.7,patch_artist = True,showmeans = True,boxprops = {'facecolor':'steelblue'}\n",
    "            ,flierprops = {'markerfacecolor':'red', 'markeredgecolor':'red', 'markersize':4}\n",
    "            ,meanprops = {'marker':'D','markerfacecolor':'black', 'markersize':4}\n",
    "            ,medianprops = {'linestyle':'--','color':'orange'},labels = [''])\n",
    "\n",
    "\n",
    "\n",
    "plt.show\n"
   ]
  },
  {
   "cell_type": "code",
   "execution_count": 166,
   "metadata": {
    "scrolled": false
   },
   "outputs": [
    {
     "name": "stdout",
     "output_type": "stream",
     "text": [
      "30.311609268188477\n",
      "30.311609268188477\n",
      "30.31193733215332\n",
      "30.31666374206543\n",
      "30.318483352661133\n",
      "30.319111824035645\n",
      "30.319278717041016\n",
      "30.319281578063965\n",
      "30.319281578063965\n",
      "30.319281578063965\n",
      "30.319281578063965\n",
      "30.319281578063965\n",
      "30.319281578063965\n",
      "30.319281578063965\n",
      "30.319281578063965\n",
      "30.319281578063965\n",
      "30.319281578063965\n",
      "30.319281578063965\n",
      "30.319281578063965\n",
      "30.132283210754395\n",
      "30.132283210754395\n",
      "30.132283210754395\n",
      "30.132283210754395\n",
      "30.132283210754395\n",
      "30.132283210754395\n",
      "30.132283210754395\n",
      "30.13224697113037\n",
      "30.132166862487793\n",
      "30.132097244262695\n",
      "30.13205051422119\n",
      "30.1320219039917\n",
      "30.13200569152832\n",
      "30.131997108459473\n",
      "30.13199234008789\n",
      "30.131990432739258\n",
      "30.13198947906494\n",
      "30.131988525390625\n"
     ]
    }
   ],
   "source": [
    "for i in range(predicted_traffic.shape[0]-20):\n",
    "    #print(i,i+20)\n",
    "    max_value = np.max(np.percentile(predicted_traffic[i:i+20], (25, 50, 99), interpolation='midpoint'))\n",
    "    if max_value >= 30:\n",
    "        print(max_value)"
   ]
  },
  {
   "cell_type": "code",
   "execution_count": null,
   "metadata": {},
   "outputs": [],
   "source": []
  }
 ],
 "metadata": {
  "accelerator": "GPU",
  "colab": {
   "collapsed_sections": [],
   "name": "Diff_LSTM_Prediction_Example.ipynb",
   "provenance": []
  },
  "kernelspec": {
   "display_name": "Python 3",
   "language": "python",
   "name": "python3"
  },
  "language_info": {
   "codemirror_mode": {
    "name": "ipython",
    "version": 3
   },
   "file_extension": ".py",
   "mimetype": "text/x-python",
   "name": "python",
   "nbconvert_exporter": "python",
   "pygments_lexer": "ipython3",
   "version": "3.6.12"
  }
 },
 "nbformat": 4,
 "nbformat_minor": 1
}
