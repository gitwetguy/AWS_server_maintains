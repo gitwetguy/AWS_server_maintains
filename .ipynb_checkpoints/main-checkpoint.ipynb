{
 "cells": [
  {
   "cell_type": "code",
   "execution_count": null,
   "metadata": {},
   "outputs": [],
   "source": [
    "# Import the libraries\n",
    "import numpy as np\n",
    "import matplotlib.pyplot as plt  # for 畫圖用\n",
    "import pandas as pd# load and evaluate a saved model\n",
    "from numpy import loadtxt\n",
    "from keras.models import load_model\n",
    "from keras.models import Sequential, Model\n",
    "from keras.layers import Dense, Dropout, Activation, Flatten, LSTM, TimeDistributed, RepeatVector,GRU, Input, ConvLSTM2D, Bidirectional\n",
    "from keras.layers.normalization import BatchNormalization\n",
    "from keras.optimizers import Adam\n",
    "from keras.callbacks import EarlyStopping, ModelCheckpoint\n",
    "from sklearn.metrics import mean_squared_error\n",
    "import math\n",
    "from IPython.core.pylabtools import figsize\n",
    "figsize(15, 7) \n",
    "\"\"\"\n",
    "#dataset_train = pd.read_csv('./dataset/THGBNKLAK1TS301_Memory Used (percentage)_Oct_2020.csv')  # 讀取訓練集\n",
    "dataset_train = pd.read_csv('./dataset/ATKH_Oplus_TWGKHHPSK1MSB04_memory_usage_2020_10.csv')\n",
    "dataset_train2 = pd.read_csv('./dataset/ATKH_Oplus_TWGKHHPSK1MSB04_memory_usage_2020_11.csv')# 讀取訓練集\n",
    "#dataset_train = dataset_train.dropna(axis=0)\n",
    "dataset_train = dataset_train2.append(dataset_train) \n",
    "dataset_train = dataset_train[::-1].reset_index(drop=True) \n",
    "\n",
    "train_count = int(len(dataset_train)*0.8)\n",
    "test_count = len(dataset_train)-train_count\n",
    "training_set = (dataset_train.iloc[:train_count, 3:4].values) # 取「Open」欄位值\n",
    "\n",
    "#dataset_test = pd.read_csv('./dataset/ATBK_test.csv')\n",
    "testing_set = (dataset_train.iloc[train_count:, 3:4].values)\n",
    "\n",
    "#dataset_total = pd.concat((dataset_train['Value'], dataset_test['Value']), axis = 0)\n",
    "#inputs = dataset_total[len(dataset_total) - len(dataset_test) - 60:].values\n",
    "#inputs = inputs.reshape(-1,1)\n",
    "#inputs = sc.transform(inputs) # Feature Scaling\n",
    "\"\"\""
   ]
  },
  {
   "cell_type": "code",
   "execution_count": null,
   "metadata": {},
   "outputs": [],
   "source": [
    "nab_path = 'E:/Guanru/NAB-master/NAB-master'\n",
    "nab_data_path = nab_path + '/data/'\n",
    " \n",
    "labels_filename = '/labels/combined_labels.json'\n",
    "training_file_name = 'realAWSCloudwatch/rds_cpu_utilization_e47b3b.csv'\n",
    "test_file_name = 'realAWSCloudwatch/rds_cpu_utilization_cc0c53.csv'"
   ]
  },
  {
   "cell_type": "code",
   "execution_count": null,
   "metadata": {},
   "outputs": [],
   "source": [
    "labels_file = open(nab_path + labels_filename, 'r')\n",
    "labels = json.loads(labels_file.read())\n",
    "labels_file.close()\n",
    " \n",
    "def load_data_frame_with_labels(file_name):\n",
    "    data_frame = pd.read_csv(nab_data_path + file_name)\n",
    "    data_frame['anomaly_label'] = data_frame['timestamp'].isin(labels[file_name]).astype(int)\n",
    "    return data_frame\n",
    " \n",
    " \n",
    "training_data_frame = load_data_frame_with_labels(training_file_name)\n",
    "test_data_frame = load_data_frame_with_labels(test_file_name)"
   ]
  }
 ],
 "metadata": {
  "kernelspec": {
   "display_name": "Python 3",
   "language": "python",
   "name": "python3"
  },
  "language_info": {
   "codemirror_mode": {
    "name": "ipython",
    "version": 3
   },
   "file_extension": ".py",
   "mimetype": "text/x-python",
   "name": "python",
   "nbconvert_exporter": "python",
   "pygments_lexer": "ipython3",
   "version": "3.6.12"
  }
 },
 "nbformat": 4,
 "nbformat_minor": 4
}
