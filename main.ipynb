{
 "cells": [
  {
   "cell_type": "code",
   "execution_count": 4,
   "metadata": {},
   "outputs": [
    {
     "data": {
      "text/plain": [
       "\"\\n#dataset_train = pd.read_csv('./dataset/THGBNKLAK1TS301_Memory Used (percentage)_Oct_2020.csv')  # 讀取訓練集\\ndataset_train = pd.read_csv('./dataset/ATKH_Oplus_TWGKHHPSK1MSB04_memory_usage_2020_10.csv')\\ndataset_train2 = pd.read_csv('./dataset/ATKH_Oplus_TWGKHHPSK1MSB04_memory_usage_2020_11.csv')# 讀取訓練集\\n#dataset_train = dataset_train.dropna(axis=0)\\ndataset_train = dataset_train2.append(dataset_train) \\ndataset_train = dataset_train[::-1].reset_index(drop=True) \\n\\ntrain_count = int(len(dataset_train)*0.8)\\ntest_count = len(dataset_train)-train_count\\ntraining_set = (dataset_train.iloc[:train_count, 3:4].values) # 取「Open」欄位值\\n\\n#dataset_test = pd.read_csv('./dataset/ATBK_test.csv')\\ntesting_set = (dataset_train.iloc[train_count:, 3:4].values)\\n\\n#dataset_total = pd.concat((dataset_train['Value'], dataset_test['Value']), axis = 0)\\n#inputs = dataset_total[len(dataset_total) - len(dataset_test) - 60:].values\\n#inputs = inputs.reshape(-1,1)\\n#inputs = sc.transform(inputs) # Feature Scaling\\n\""
      ]
     },
     "execution_count": 4,
     "metadata": {},
     "output_type": "execute_result"
    }
   ],
   "source": [
    "# Import the libraries\n",
    "import numpy as np\n",
    "import matplotlib.pyplot as plt  # for 畫圖用\n",
    "import pandas as pd# load and evaluate a saved model\n",
    "from numpy import loadtxt\n",
    "from keras.models import load_model\n",
    "from keras.models import Sequential, Model\n",
    "from keras.layers import Dense, Dropout, Activation, Flatten, LSTM, TimeDistributed, RepeatVector,GRU, Input, ConvLSTM2D, Bidirectional\n",
    "from keras.layers.normalization import BatchNormalization\n",
    "from keras.optimizers import Adam\n",
    "from keras.callbacks import EarlyStopping, ModelCheckpoint\n",
    "from sklearn.metrics import mean_squared_error\n",
    "import math\n",
    "from IPython.core.pylabtools import figsize\n",
    "import json\n",
    "figsize(15, 7) \n",
    "\"\"\"\n",
    "#dataset_train = pd.read_csv('./dataset/THGBNKLAK1TS301_Memory Used (percentage)_Oct_2020.csv')  # 讀取訓練集\n",
    "dataset_train = pd.read_csv('./dataset/ATKH_Oplus_TWGKHHPSK1MSB04_memory_usage_2020_10.csv')\n",
    "dataset_train2 = pd.read_csv('./dataset/ATKH_Oplus_TWGKHHPSK1MSB04_memory_usage_2020_11.csv')# 讀取訓練集\n",
    "#dataset_train = dataset_train.dropna(axis=0)\n",
    "dataset_train = dataset_train2.append(dataset_train) \n",
    "dataset_train = dataset_train[::-1].reset_index(drop=True) \n",
    "\n",
    "train_count = int(len(dataset_train)*0.8)\n",
    "test_count = len(dataset_train)-train_count\n",
    "training_set = (dataset_train.iloc[:train_count, 3:4].values) # 取「Open」欄位值\n",
    "\n",
    "#dataset_test = pd.read_csv('./dataset/ATBK_test.csv')\n",
    "testing_set = (dataset_train.iloc[train_count:, 3:4].values)\n",
    "\n",
    "#dataset_total = pd.concat((dataset_train['Value'], dataset_test['Value']), axis = 0)\n",
    "#inputs = dataset_total[len(dataset_total) - len(dataset_test) - 60:].values\n",
    "#inputs = inputs.reshape(-1,1)\n",
    "#inputs = sc.transform(inputs) # Feature Scaling\n",
    "\"\"\""
   ]
  },
  {
   "cell_type": "code",
   "execution_count": 28,
   "metadata": {},
   "outputs": [],
   "source": [
    "nab_path = 'E:/Guanru/AWS_server_mantains/AWS_server_maintains'\n",
    "nab_data_path = nab_path + '/data/'\n",
    " \n",
    "labels_filename = '/labels/combined_labels.json'\n",
    "training_file_name = 'realAWSCloudwatch/ec2_disk_write_bytes_1ef3de.csv'\n",
    "test_file_name = 'realAWSCloudwatch/ec2_cpu_utilization_825cc2.csv'"
   ]
  },
  {
   "cell_type": "code",
   "execution_count": 29,
   "metadata": {},
   "outputs": [],
   "source": [
    "labels_file = open(nab_path + labels_filename, 'r')\n",
    "labels = json.loads(labels_file.read())\n",
    "labels_file.close()\n",
    " \n",
    "def load_data_frame_with_labels(file_name):\n",
    "    data_frame = pd.read_csv(nab_data_path + file_name)\n",
    "    data_frame['anomaly_label'] = data_frame['timestamp'].isin(labels[file_name]).astype(int)\n",
    "    return data_frame\n",
    " \n",
    " \n",
    "training_data_frame = load_data_frame_with_labels(training_file_name)\n",
    "test_data_frame = load_data_frame_with_labels(test_file_name)"
   ]
  },
  {
   "cell_type": "code",
   "execution_count": 30,
   "metadata": {},
   "outputs": [
    {
     "data": {
      "text/html": [
       "<div>\n",
       "<style scoped>\n",
       "    .dataframe tbody tr th:only-of-type {\n",
       "        vertical-align: middle;\n",
       "    }\n",
       "\n",
       "    .dataframe tbody tr th {\n",
       "        vertical-align: top;\n",
       "    }\n",
       "\n",
       "    .dataframe thead th {\n",
       "        text-align: right;\n",
       "    }\n",
       "</style>\n",
       "<table border=\"1\" class=\"dataframe\">\n",
       "  <thead>\n",
       "    <tr style=\"text-align: right;\">\n",
       "      <th></th>\n",
       "      <th>timestamp</th>\n",
       "      <th>value</th>\n",
       "      <th>anomaly_label</th>\n",
       "    </tr>\n",
       "  </thead>\n",
       "  <tbody>\n",
       "    <tr>\n",
       "      <th>0</th>\n",
       "      <td>2014-03-01 17:34:00</td>\n",
       "      <td>0.0</td>\n",
       "      <td>0</td>\n",
       "    </tr>\n",
       "    <tr>\n",
       "      <th>1</th>\n",
       "      <td>2014-03-01 17:39:00</td>\n",
       "      <td>0.0</td>\n",
       "      <td>0</td>\n",
       "    </tr>\n",
       "    <tr>\n",
       "      <th>2</th>\n",
       "      <td>2014-03-01 17:44:00</td>\n",
       "      <td>0.0</td>\n",
       "      <td>0</td>\n",
       "    </tr>\n",
       "    <tr>\n",
       "      <th>3</th>\n",
       "      <td>2014-03-01 17:49:00</td>\n",
       "      <td>0.0</td>\n",
       "      <td>0</td>\n",
       "    </tr>\n",
       "    <tr>\n",
       "      <th>4</th>\n",
       "      <td>2014-03-01 17:54:00</td>\n",
       "      <td>0.0</td>\n",
       "      <td>0</td>\n",
       "    </tr>\n",
       "    <tr>\n",
       "      <th>...</th>\n",
       "      <td>...</td>\n",
       "      <td>...</td>\n",
       "      <td>...</td>\n",
       "    </tr>\n",
       "    <tr>\n",
       "      <th>4725</th>\n",
       "      <td>2014-03-18 03:19:00</td>\n",
       "      <td>0.0</td>\n",
       "      <td>0</td>\n",
       "    </tr>\n",
       "    <tr>\n",
       "      <th>4726</th>\n",
       "      <td>2014-03-18 03:24:00</td>\n",
       "      <td>0.0</td>\n",
       "      <td>0</td>\n",
       "    </tr>\n",
       "    <tr>\n",
       "      <th>4727</th>\n",
       "      <td>2014-03-18 03:29:00</td>\n",
       "      <td>0.0</td>\n",
       "      <td>0</td>\n",
       "    </tr>\n",
       "    <tr>\n",
       "      <th>4728</th>\n",
       "      <td>2014-03-18 03:34:00</td>\n",
       "      <td>0.0</td>\n",
       "      <td>0</td>\n",
       "    </tr>\n",
       "    <tr>\n",
       "      <th>4729</th>\n",
       "      <td>2014-03-18 03:39:00</td>\n",
       "      <td>0.0</td>\n",
       "      <td>0</td>\n",
       "    </tr>\n",
       "  </tbody>\n",
       "</table>\n",
       "<p>4730 rows × 3 columns</p>\n",
       "</div>"
      ],
      "text/plain": [
       "                timestamp  value  anomaly_label\n",
       "0     2014-03-01 17:34:00    0.0              0\n",
       "1     2014-03-01 17:39:00    0.0              0\n",
       "2     2014-03-01 17:44:00    0.0              0\n",
       "3     2014-03-01 17:49:00    0.0              0\n",
       "4     2014-03-01 17:54:00    0.0              0\n",
       "...                   ...    ...            ...\n",
       "4725  2014-03-18 03:19:00    0.0              0\n",
       "4726  2014-03-18 03:24:00    0.0              0\n",
       "4727  2014-03-18 03:29:00    0.0              0\n",
       "4728  2014-03-18 03:34:00    0.0              0\n",
       "4729  2014-03-18 03:39:00    0.0              0\n",
       "\n",
       "[4730 rows x 3 columns]"
      ]
     },
     "execution_count": 30,
     "metadata": {},
     "output_type": "execute_result"
    }
   ],
   "source": [
    "training_data_frame"
   ]
  },
  {
   "cell_type": "code",
   "execution_count": 31,
   "metadata": {},
   "outputs": [],
   "source": [
    "def convert_timestamps(data_frame):\n",
    "    data_frame['timestamp'] = pd.to_datetime(data_frame['timestamp'])\n",
    "    data_frame['time_epoch'] = data_frame['timestamp'].astype(np.int64)\n",
    "\n",
    "\n",
    "convert_timestamps(training_data_frame)\n",
    "convert_timestamps(test_data_frame)"
   ]
  },
  {
   "cell_type": "code",
   "execution_count": 32,
   "metadata": {},
   "outputs": [
    {
     "data": {
      "image/png": "[encoded data removed]",
      "text/plain": [
       "<Figure size 1152x504 with 1 Axes>"
      ]
     },
     "metadata": {
      "needs_background": "light"
     },
     "output_type": "display_data"
    }
   ],
   "source": [
    "def prepare_plot(data_frame):\n",
    "    fig, ax = plt.subplots()\n",
    "    ax.plot(data_frame['time_epoch'],\n",
    "               data_frame['value'],  color='blue')\n",
    "\n",
    "    labled_anomalies = data_frame.loc[data_frame['anomaly_label'] == 1, ['time_epoch', 'value']]\n",
    "    ax.scatter(labled_anomalies['time_epoch'],\n",
    "               labled_anomalies['value'], s=200, color='green')\n",
    "\n",
    "    return ax\n",
    "\n",
    "\n",
    "figsize(16, 7)\n",
    "prepare_plot(training_data_frame)\n",
    "plt.show()\n"
   ]
  },
  {
   "cell_type": "code",
   "execution_count": null,
   "metadata": {},
   "outputs": [],
   "source": []
  }
 ],
 "metadata": {
  "kernelspec": {
   "display_name": "Python 3",
   "language": "python",
   "name": "python3"
  },
  "language_info": {
   "codemirror_mode": {
    "name": "ipython",
    "version": 3
   },
   "file_extension": ".py",
   "mimetype": "text/x-python",
   "name": "python",
   "nbconvert_exporter": "python",
   "pygments_lexer": "ipython3",
   "version": "3.6.12"
  }
 },
 "nbformat": 4,
 "nbformat_minor": 4
}
